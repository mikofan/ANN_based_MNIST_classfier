{
 "cells": [
  {
   "cell_type": "code",
   "execution_count": 10,
   "metadata": {},
   "outputs": [],
   "source": [
    "import tensorflow as tf # load tensorflow library\n",
    "import numpy as np\n",
    "import cv2 # opencv to open image files\n",
    "import matplotlib.pyplot as plt # library for visualization of image\n",
    "from tensorflow.keras.layers import Input, Dense, Flatten # layers for neural network definition\n",
    "from tensorflow.keras.models import Model\n",
    "from tensorflow.keras.optimizers import Adam"
   ]
  },
  {
   "cell_type": "markdown",
   "metadata": {},
   "source": [
    "**1. Prepare the MNIST dataset**"
   ]
  },
  {
   "cell_type": "code",
   "execution_count": 11,
   "metadata": {},
   "outputs": [],
   "source": [
    "# Load the MNIST dataset\n",
    "mnist = tf.keras.datasets.mnist\n",
    "(x_train, y_train), (x_valid, y_valid) = mnist.load_data()"
   ]
  },
  {
   "cell_type": "code",
   "execution_count": 12,
   "metadata": {},
   "outputs": [
    {
     "data": {
      "text/plain": [
       "<matplotlib.colorbar.Colorbar at 0x1a78d493650>"
      ]
     },
     "execution_count": 12,
     "metadata": {},
     "output_type": "execute_result"
    },
    {
     "data": {
      "image/png": "[encoded data removed]",
      "text/plain": [
       "<Figure size 640x480 with 2 Axes>"
      ]
     },
     "metadata": {},
     "output_type": "display_data"
    }
   ],
   "source": [
    "# Draw an image\n",
    "plt.imshow(x_train[3], cmap='gray')\n",
    "plt.colorbar()"
   ]
  },
  {
   "cell_type": "markdown",
   "metadata": {},
   "source": [
    "**Data normalization**"
   ]
  },
  {
   "cell_type": "code",
   "execution_count": 13,
   "metadata": {},
   "outputs": [],
   "source": [
    "# Cast uint8 to float32 and make a normalization\n",
    "x_train = np.float32(x_train) / 255.0\n",
    "x_valid = np.float32(x_valid) / 255.0"
   ]
  },
  {
   "cell_type": "code",
   "execution_count": 14,
   "metadata": {},
   "outputs": [],
   "source": [
    "# Transformation from NumPy format to tf.Tensor format using tf.data API\n",
    "train_ds = tf.data.Dataset.from_tensor_slices((x_train, y_train)) # make pairs of x and y (label)\n",
    "valid_ds = tf.data.Dataset.from_tensor_slices((x_valid, y_valid))\n",
    "\n",
    "AUTOTUNE = tf.data.experimental.AUTOTUNE # Optimization for making a mini-batch\n",
    "train_ds = train_ds.shuffle(len(x_train)) # Shuffle training dataset\n",
    "train_ds = train_ds.repeat(1) # How many repeats of times of datasets on ONE epoch\n",
    "train_ds = train_ds.batch(50) # Make a mini-batch with mini-batch size 50\n",
    "train_ds = train_ds.prefetch(buffer_size=AUTOTUNE)\n",
    "valid_ds = valid_ds.batch(50) # for validation data"
   ]
  },
  {
   "cell_type": "code",
   "execution_count": 15,
   "metadata": {},
   "outputs": [
    {
     "data": {
      "text/plain": [
       "(<tf.Tensor: shape=(50, 28, 28), dtype=float32, numpy=\n",
       " array([[[0., 0., 0., ..., 0., 0., 0.],\n",
       "         [0., 0., 0., ..., 0., 0., 0.],\n",
       "         [0., 0., 0., ..., 0., 0., 0.],\n",
       "         ...,\n",
       "         [0., 0., 0., ..., 0., 0., 0.],\n",
       "         [0., 0., 0., ..., 0., 0., 0.],\n",
       "         [0., 0., 0., ..., 0., 0., 0.]],\n",
       " \n",
       "        [[0., 0., 0., ..., 0., 0., 0.],\n",
       "         [0., 0., 0., ..., 0., 0., 0.],\n",
       "         [0., 0., 0., ..., 0., 0., 0.],\n",
       "         ...,\n",
       "         [0., 0., 0., ..., 0., 0., 0.],\n",
       "         [0., 0., 0., ..., 0., 0., 0.],\n",
       "         [0., 0., 0., ..., 0., 0., 0.]],\n",
       " \n",
       "        [[0., 0., 0., ..., 0., 0., 0.],\n",
       "         [0., 0., 0., ..., 0., 0., 0.],\n",
       "         [0., 0., 0., ..., 0., 0., 0.],\n",
       "         ...,\n",
       "         [0., 0., 0., ..., 0., 0., 0.],\n",
       "         [0., 0., 0., ..., 0., 0., 0.],\n",
       "         [0., 0., 0., ..., 0., 0., 0.]],\n",
       " \n",
       "        ...,\n",
       " \n",
       "        [[0., 0., 0., ..., 0., 0., 0.],\n",
       "         [0., 0., 0., ..., 0., 0., 0.],\n",
       "         [0., 0., 0., ..., 0., 0., 0.],\n",
       "         ...,\n",
       "         [0., 0., 0., ..., 0., 0., 0.],\n",
       "         [0., 0., 0., ..., 0., 0., 0.],\n",
       "         [0., 0., 0., ..., 0., 0., 0.]],\n",
       " \n",
       "        [[0., 0., 0., ..., 0., 0., 0.],\n",
       "         [0., 0., 0., ..., 0., 0., 0.],\n",
       "         [0., 0., 0., ..., 0., 0., 0.],\n",
       "         ...,\n",
       "         [0., 0., 0., ..., 0., 0., 0.],\n",
       "         [0., 0., 0., ..., 0., 0., 0.],\n",
       "         [0., 0., 0., ..., 0., 0., 0.]],\n",
       " \n",
       "        [[0., 0., 0., ..., 0., 0., 0.],\n",
       "         [0., 0., 0., ..., 0., 0., 0.],\n",
       "         [0., 0., 0., ..., 0., 0., 0.],\n",
       "         ...,\n",
       "         [0., 0., 0., ..., 0., 0., 0.],\n",
       "         [0., 0., 0., ..., 0., 0., 0.],\n",
       "         [0., 0., 0., ..., 0., 0., 0.]]], dtype=float32)>,\n",
       " <tf.Tensor: shape=(50,), dtype=uint8, numpy=\n",
       " array([2, 5, 8, 8, 5, 6, 9, 9, 9, 9, 6, 5, 1, 9, 6, 2, 3, 5, 8, 5, 1, 1,\n",
       "        7, 7, 2, 1, 4, 3, 3, 6, 6, 9, 6, 3, 4, 3, 0, 9, 8, 0, 3, 2, 8, 2,\n",
       "        6, 9, 1, 8, 0, 3], dtype=uint8)>)"
      ]
     },
     "execution_count": 15,
     "metadata": {},
     "output_type": "execute_result"
    }
   ],
   "source": [
    "# check the dataset (tf.Tensor format)\n",
    "next(iter(train_ds))"
   ]
  },
  {
   "cell_type": "markdown",
   "metadata": {},
   "source": [
    "**2. Design of model**"
   ]
  },
  {
   "cell_type": "code",
   "execution_count": 24,
   "metadata": {},
   "outputs": [
    {
     "name": "stdout",
     "output_type": "stream",
     "text": [
      "Model: \"model_2\"\n",
      "_________________________________________________________________\n",
      " Layer (type)                Output Shape              Param #   \n",
      "=================================================================\n",
      " input (InputLayer)          [(None, 28, 28)]          0         \n",
      "                                                                 \n",
      " flatten_2 (Flatten)         (None, 784)               0         \n",
      "                                                                 \n",
      " dense1 (Dense)              (None, 512)               401920    \n",
      "                                                                 \n",
      " dense3 (Dense)              (None, 512)               262656    \n",
      "                                                                 \n",
      " dense2 (Dense)              (None, 512)               262656    \n",
      "                                                                 \n",
      " output (Dense)              (None, 10)                5130      \n",
      "                                                                 \n",
      "=================================================================\n",
      "Total params: 932362 (3.56 MB)\n",
      "Trainable params: 932362 (3.56 MB)\n",
      "Non-trainable params: 0 (0.00 Byte)\n",
      "_________________________________________________________________\n"
     ]
    }
   ],
   "source": [
    "# Model design using functional API\n",
    "input = Input(shape=(28, 28), name='input') # Definition of the input layer\n",
    "h = Flatten()(input) # Convert 28x28 image (2d Tensor) to 1 dim. Tensor data (784 dims.)\n",
    "h = Dense(512, activation='relu', name='dense1')(h)\n",
    "h = Dense(512, activation='sigmoid', name='dense3')(h)\n",
    "h = Dense(512, activation='relu', name='dense2')(h)  # if you want to increase one more layer\n",
    "output = Dense(10, activation='softmax', name='output')(h) # output layer\n",
    "\n",
    "model = Model(inputs=input, outputs=output) # Make a model\n",
    "model.summary() # Visualize the model"
   ]
  },
  {
   "cell_type": "markdown",
   "metadata": {},
   "source": [
    "**3. Set a loss function and optimizer**"
   ]
  },
  {
   "cell_type": "code",
   "execution_count": 25,
   "metadata": {},
   "outputs": [],
   "source": [
    "model.compile(optimizer=Adam(0.001), loss='sparse_categorical_crossentropy', metrics='accuracy')"
   ]
  },
  {
   "cell_type": "markdown",
   "metadata": {},
   "source": [
    "**4. Training**"
   ]
  },
  {
   "cell_type": "code",
   "execution_count": 26,
   "metadata": {},
   "outputs": [
    {
     "name": "stdout",
     "output_type": "stream",
     "text": [
      "Epoch 1/10\n",
      "1200/1200 [==============================] - 12s 10ms/step - loss: 0.2378 - accuracy: 0.9257 - val_loss: 0.1168 - val_accuracy: 0.9638\n",
      "Epoch 2/10\n",
      "1200/1200 [==============================] - 11s 9ms/step - loss: 0.0898 - accuracy: 0.9718 - val_loss: 0.0808 - val_accuracy: 0.9732\n",
      "Epoch 3/10\n",
      "1200/1200 [==============================] - 11s 9ms/step - loss: 0.0623 - accuracy: 0.9799 - val_loss: 0.0836 - val_accuracy: 0.9739\n",
      "Epoch 4/10\n",
      "1200/1200 [==============================] - 11s 9ms/step - loss: 0.0452 - accuracy: 0.9858 - val_loss: 0.0920 - val_accuracy: 0.9759\n",
      "Epoch 5/10\n",
      "1200/1200 [==============================] - 11s 9ms/step - loss: 0.0379 - accuracy: 0.9876 - val_loss: 0.0781 - val_accuracy: 0.9761\n",
      "Epoch 6/10\n",
      "1200/1200 [==============================] - 11s 9ms/step - loss: 0.0287 - accuracy: 0.9908 - val_loss: 0.0709 - val_accuracy: 0.9809\n",
      "Epoch 7/10\n",
      "1200/1200 [==============================] - 11s 9ms/step - loss: 0.0245 - accuracy: 0.9918 - val_loss: 0.0892 - val_accuracy: 0.9763\n",
      "Epoch 8/10\n",
      "1200/1200 [==============================] - 11s 9ms/step - loss: 0.0217 - accuracy: 0.9930 - val_loss: 0.0726 - val_accuracy: 0.9810\n",
      "Epoch 9/10\n",
      "1200/1200 [==============================] - 11s 9ms/step - loss: 0.0191 - accuracy: 0.9942 - val_loss: 0.0858 - val_accuracy: 0.9795\n",
      "Epoch 10/10\n",
      "1200/1200 [==============================] - 11s 9ms/step - loss: 0.0163 - accuracy: 0.9943 - val_loss: 0.0737 - val_accuracy: 0.9817\n"
     ]
    },
    {
     "data": {
      "text/plain": [
       "<keras.src.callbacks.History at 0x1a786c47510>"
      ]
     },
     "execution_count": 26,
     "metadata": {},
     "output_type": "execute_result"
    }
   ],
   "source": [
    "model.fit(train_ds, epochs=10, validation_data=valid_ds) # 10 epoch enogh to train the model"
   ]
  },
  {
   "cell_type": "markdown",
   "metadata": {},
   "source": [
    "**5. Recognize your own number character**\n",
    "\n",
    "---\n",
    "\n",
    "\n",
    "1. Write your favarite number\n",
    "2. Crop the number character from the image\n",
    "3. Save\n",
    "4. Uploat to Colab."
   ]
  },
  {
   "cell_type": "code",
   "execution_count": 19,
   "metadata": {},
   "outputs": [],
   "source": [
    "model.save('MNIST_DNN.keras') # Save the model (indicate your favarite folder)"
   ]
  },
  {
   "cell_type": "code",
   "execution_count": 27,
   "metadata": {},
   "outputs": [
    {
     "name": "stdout",
     "output_type": "stream",
     "text": [
      "[[245 245 245 ... 245 245 245]\n",
      " [245 245 245 ... 245 245 245]\n",
      " [245 245 245 ... 245 245 245]\n",
      " ...\n",
      " [245 245 245 ... 245 245 245]\n",
      " [245 245 245 ... 245 245 245]\n",
      " [245 245 245 ... 245 245 245]]\n"
     ]
    },
    {
     "data": {
      "text/plain": [
       "<matplotlib.image.AxesImage at 0x1a787ab6b90>"
      ]
     },
     "execution_count": 27,
     "metadata": {},
     "output_type": "execute_result"
    },
    {
     "data": {
      "image/png": "[encoded data removed]",
      "text/plain": [
       "<Figure size 640x480 with 1 Axes>"
      ]
     },
     "metadata": {},
     "output_type": "display_data"
    }
   ],
   "source": [
    "img = cv2.imread('6.PNG', cv2.IMREAD_GRAYSCALE)\n",
    "print(img)\n",
    "plt.imshow(img, cmap='gray')\n",
    "img = cv2.resize(img, (28, 28))\n",
    "plt.imshow(img, cmap='gray')"
   ]
  },
  {
   "cell_type": "code",
   "execution_count": 28,
   "metadata": {},
   "outputs": [
    {
     "data": {
      "text/plain": [
       "<matplotlib.image.AxesImage at 0x1a78721a0d0>"
      ]
     },
     "execution_count": 28,
     "metadata": {},
     "output_type": "execute_result"
    },
    {
     "data": {
      "image/png": "[encoded data removed]",
      "text/plain": [
       "<Figure size 640x480 with 1 Axes>"
      ]
     },
     "metadata": {},
     "output_type": "display_data"
    }
   ],
   "source": [
    "img = 255 - img\n",
    "plt.imshow(img, cmap='gray')"
   ]
  },
  {
   "cell_type": "code",
   "execution_count": 29,
   "metadata": {},
   "outputs": [
    {
     "name": "stdout",
     "output_type": "stream",
     "text": [
      "Befor: (28, 28)\n",
      "After: (1, 28, 28)\n",
      "1/1 [==============================] - 0s 53ms/step\n",
      "[[7.16680603e-04 1.51354925e-05 1.46550485e-06 2.38622579e-05\n",
      "  2.70341425e-05 5.21024689e-03 9.91343737e-01 8.59907558e-08\n",
      "  2.65377155e-03 8.02477280e-06]]\n",
      "Result: 6\n"
     ]
    }
   ],
   "source": [
    "img = np.float32(img) / 255. # Normazaition\n",
    "print('Befor:', img.shape)\n",
    "img = img[np.newaxis, :] # Add a new dimension because the NN model can only accept the data which shape is (batch, 28, 28).\n",
    "print('After:', img.shape)\n",
    "pred = model.predict(img) # inference\n",
    "print(pred)\n",
    "print('Result:', pred.argmax())"
   ]
  }
 ],
 "metadata": {
  "kernelspec": {
   "display_name": "Python 3",
   "language": "python",
   "name": "python3"
  },
  "language_info": {
   "codemirror_mode": {
    "name": "ipython",
    "version": 3
   },
   "file_extension": ".py",
   "mimetype": "text/x-python",
   "name": "python",
   "nbconvert_exporter": "python",
   "pygments_lexer": "ipython3",
   "version": "3.11.5"
  }
 },
 "nbformat": 4,
 "nbformat_minor": 2
}

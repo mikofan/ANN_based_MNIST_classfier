{
 "cells": [
  {
   "cell_type": "code",
   "execution_count": null,
   "metadata": {},
   "outputs": [],
   "source": [
    "from read import read_datasets\n",
    "\n",
    "import torch\n",
    "import torch.optim as optim\n",
    "\n",
    "import numpy as np\n",
    "import pandas as pd\n",
    "import matplotlib.pyplot as plt"
   ]
  },
  {
   "cell_type": "code",
   "execution_count": 15,
   "metadata": {},
   "outputs": [],
   "source": [
    "row = 28  #图片像素行数\n",
    "cols = 28  #图片像素列数\n",
    "image_sum = 600  #已知训练集有60000个图，任取一段\n",
    "test_sum = 100  #已知测试集有10000个图，任取一段\n",
    "\n",
    "input_dim = 784  #输入神经元数\n",
    "#input_dim = row*cols\n",
    "output_dim = 10  #输出神经元数\n",
    "hidden_dim = 150  #隐藏神经元数"
   ]
  },
  {
   "cell_type": "code",
   "execution_count": null,
   "metadata": {},
   "outputs": [],
   "source": [
    "#读取训练集\n",
    "datasets_train = read_datasets('data/image_idx3/train-images.idx3-ubyte',\n",
    "                               'data/lable_idx1/train-labels.idx1-ubyte')\n",
    "#datasets_train"
   ]
  },
  {
   "cell_type": "code",
   "execution_count": null,
   "metadata": {},
   "outputs": [],
   "source": [
    "#读取测试集\n",
    "datasets_test = read_datasets('data/image_idx3/t10k-images.idx3-ubyte',\n",
    "                              'data/lable_idx1/t10k-labels.idx1-ubyte')\n",
    "#datasets_test"
   ]
  },
  {
   "cell_type": "code",
   "execution_count": 18,
   "metadata": {},
   "outputs": [],
   "source": [
    "#定义模型\n",
    "model = torch.nn.Sequential(torch.nn.Linear(input_dim, hidden_dim),\n",
    "                            torch.nn.Sigmoid(),\n",
    "                            torch.nn.Linear(hidden_dim, output_dim))\n",
    "loss_func = torch.nn.MSELoss(reduction='mean')\n",
    "optimizer = optim.Adam(model.parameters(), lr=0.001)"
   ]
  },
  {
   "cell_type": "code",
   "execution_count": null,
   "metadata": {},
   "outputs": [],
   "source": [
    "#训练网络\n",
    "error_rate = 0\n",
    "out = 1\n",
    "random_index = 0\n",
    "while (out):\n",
    "    for epoch in range(image_sum):\n",
    "        x_input = torch.tensor(datasets_train[0][epoch+random_index],\n",
    "                               dtype=torch.float,\n",
    "                               requires_grad=True)\n",
    "        y_true = torch.tensor(datasets_train[1][epoch+random_index],\n",
    "                              dtype=torch.float,\n",
    "                              requires_grad=True)\n",
    "        y_pre = model(x_input)\n",
    "        #计算误差\n",
    "        loss = loss_func(y_pre, y_true)\n",
    "        #计算梯度\n",
    "        optimizer.zero_grad()\n",
    "        #更新参数\n",
    "        loss.backward(retain_graph=True)\n",
    "        optimizer.step()\n",
    "    #验证错误率，当不在下降就退出循环\n",
    "    pre_true = 0\n",
    "    pre_wrong = 0\n",
    "    for epoch in range(test_sum):\n",
    "        x_input = torch.tensor(datasets_test[0][epoch],\n",
    "                               dtype=torch.float,\n",
    "                               requires_grad=False)\n",
    "        y_true = torch.tensor(datasets_test[1][epoch],\n",
    "                              dtype=torch.int,\n",
    "                              requires_grad=False)\n",
    "        y_pre = torch.argmax(model(x_input))\n",
    "        if y_true == y_pre:\n",
    "            pre_true += 1\n",
    "        else:\n",
    "            pre_wrong += 1\n",
    "    new_rate = pre_wrong / (pre_true + pre_wrong)\n",
    "    if abs(new_rate - error_rate) < 0.01:\n",
    "        out = 0\n",
    "    else:\n",
    "        #不满足退出条件的的话就在训练集里面再随机截取一段继续训练\n",
    "        random_index = np.random.randint(60000 - image_sum)\n",
    "print('error rate: %.3f'% error_rate)\n"
   ]
  },
  {
   "cell_type": "code",
   "execution_count": null,
   "metadata": {},
   "outputs": [],
   "source": [
    "epoch = 5\n",
    "x_input = torch.tensor(datasets_test[0][epoch],\n",
    "                       dtype=torch.float,\n",
    "                       requires_grad=False)\n",
    "y_true = torch.tensor(datasets_test[1][epoch],\n",
    "                      dtype=torch.int,\n",
    "                      requires_grad=False)\n",
    "#y_pre1 = model(x_input)\n",
    "y_pre = torch.argmax(model(x_input))\n",
    "#print(y_true, y_pre1, y_pre2)\n",
    "image = datasets_test[0][epoch].reshape(28, 28)\n",
    "plt.imshow(image)\n",
    "plt.title('label:{},predict:{}'.format(int(y_true), y_pre))\n",
    "plt.show()"
   ]
  },
  {
   "cell_type": "code",
   "execution_count": null,
   "metadata": {},
   "outputs": [],
   "source": []
  }
 ],
 "metadata": {
  "kernelspec": {
   "display_name": "Python 3",
   "language": "python",
   "name": "python3"
  },
  "language_info": {
   "codemirror_mode": {
    "name": "ipython",
    "version": 3
   },
   "file_extension": ".py",
   "mimetype": "text/x-python",
   "name": "python",
   "nbconvert_exporter": "python",
   "pygments_lexer": "ipython3",
   "version": "3.9.2"
  }
 },
 "nbformat": 4,
 "nbformat_minor": 2
}

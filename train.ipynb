{
 "cells": [
  {
   "cell_type": "code",
   "execution_count": null,
   "metadata": {},
   "outputs": [],
   "source": [
    "from read import read_datasets\n",
    "\n",
    "import torch\n",
    "import torch.optim as optim\n",
    "\n",
    "import numpy as np\n",
    "import pandas as pd\n",
    "import matplotlib.pyplot as plt"
   ]
  },
  {
   "cell_type": "code",
   "execution_count": 15,
   "metadata": {},
   "outputs": [],
   "source": [
    "row = 28  #图片像素行数\n",
    "cols = 28  #图片像素列数\n",
    "image_sum = 6000  #已知训练集有60000个图，直接设置取1/10训练\n",
    "test_sum = 1000  #已知测试集有10000个图，直接设置取1/10训练\n",
    "\n",
    "input_dim = 784  #输入神经元数\n",
    "#input_dim = row*cols\n",
    "output_dim = 10  #输出神经元数\n",
    "hidden_dim = 150  #隐藏神经元数"
   ]
  },
  {
   "cell_type": "code",
   "execution_count": 16,
   "metadata": {},
   "outputs": [
    {
     "data": {
      "text/plain": [
       "(array([[0, 0, 0, ..., 0, 0, 0],\n",
       "        [0, 0, 0, ..., 0, 0, 0],\n",
       "        [0, 0, 0, ..., 0, 0, 0],\n",
       "        ...,\n",
       "        [0, 0, 0, ..., 0, 0, 0],\n",
       "        [0, 0, 0, ..., 0, 0, 0],\n",
       "        [0, 0, 0, ..., 0, 0, 0]], dtype=uint8),\n",
       " array([5, 0, 4, ..., 5, 6, 8], dtype=uint8))"
      ]
     },
     "execution_count": 16,
     "metadata": {},
     "output_type": "execute_result"
    }
   ],
   "source": [
    "#读取训练集\n",
    "datasets_train = read_datasets('data/image_idx3/train-images.idx3-ubyte',\n",
    "                               'data/lable_idx1/train-labels.idx1-ubyte')\n",
    "datasets_train"
   ]
  },
  {
   "cell_type": "code",
   "execution_count": 17,
   "metadata": {},
   "outputs": [
    {
     "data": {
      "text/plain": [
       "(array([[0, 0, 0, ..., 0, 0, 0],\n",
       "        [0, 0, 0, ..., 0, 0, 0],\n",
       "        [0, 0, 0, ..., 0, 0, 0],\n",
       "        ...,\n",
       "        [0, 0, 0, ..., 0, 0, 0],\n",
       "        [0, 0, 0, ..., 0, 0, 0],\n",
       "        [0, 0, 0, ..., 0, 0, 0]], dtype=uint8),\n",
       " array([7, 2, 1, ..., 4, 5, 6], dtype=uint8))"
      ]
     },
     "execution_count": 17,
     "metadata": {},
     "output_type": "execute_result"
    }
   ],
   "source": [
    "#读取测试集\n",
    "datasets_test = read_datasets('data/image_idx3/t10k-images.idx3-ubyte',\n",
    "                              'data/lable_idx1/t10k-labels.idx1-ubyte')\n",
    "datasets_test"
   ]
  },
  {
   "cell_type": "code",
   "execution_count": 18,
   "metadata": {},
   "outputs": [],
   "source": [
    "#定义模型\n",
    "model = torch.nn.Sequential(torch.nn.Linear(input_dim, hidden_dim),\n",
    "                            torch.nn.Sigmoid(),\n",
    "                            torch.nn.Linear(hidden_dim, output_dim))\n",
    "loss_func = torch.nn.MSELoss(reduction='mean')\n",
    "optimizer = optim.Adam(model.parameters(), lr=0.001)"
   ]
  },
  {
   "cell_type": "code",
   "execution_count": 19,
   "metadata": {},
   "outputs": [
    {
     "ename": "KeyboardInterrupt",
     "evalue": "",
     "output_type": "error",
     "traceback": [
      "\u001b[1;31m---------------------------------------------------------------------------\u001b[0m",
      "\u001b[1;31mKeyboardInterrupt\u001b[0m                         Traceback (most recent call last)",
      "\u001b[1;32md:\\Microsoft_VS_Code\\PRO\\ANN_based_MNIST_classfier\\train.ipynb 单元格 6\u001b[0m line \u001b[0;36m1\n\u001b[0;32m     <a href='vscode-notebook-cell:/d%3A/Microsoft_VS_Code/PRO/ANN_based_MNIST_classfier/train.ipynb#W5sZmlsZQ%3D%3D?line=15'>16</a>\u001b[0m     optimizer\u001b[39m.\u001b[39mzero_grad()\n\u001b[0;32m     <a href='vscode-notebook-cell:/d%3A/Microsoft_VS_Code/PRO/ANN_based_MNIST_classfier/train.ipynb#W5sZmlsZQ%3D%3D?line=16'>17</a>\u001b[0m     \u001b[39m#更新参数\u001b[39;00m\n\u001b[1;32m---> <a href='vscode-notebook-cell:/d%3A/Microsoft_VS_Code/PRO/ANN_based_MNIST_classfier/train.ipynb#W5sZmlsZQ%3D%3D?line=17'>18</a>\u001b[0m     loss\u001b[39m.\u001b[39;49mbackward(retain_graph\u001b[39m=\u001b[39;49m\u001b[39mTrue\u001b[39;49;00m)\n\u001b[0;32m     <a href='vscode-notebook-cell:/d%3A/Microsoft_VS_Code/PRO/ANN_based_MNIST_classfier/train.ipynb#W5sZmlsZQ%3D%3D?line=18'>19</a>\u001b[0m     optimizer\u001b[39m.\u001b[39mstep()\n\u001b[0;32m     <a href='vscode-notebook-cell:/d%3A/Microsoft_VS_Code/PRO/ANN_based_MNIST_classfier/train.ipynb#W5sZmlsZQ%3D%3D?line=19'>20</a>\u001b[0m \u001b[39m#验证错误率，当不在下降就退出循环\u001b[39;00m\n",
      "File \u001b[1;32m~\\AppData\\Roaming\\Python\\Python39\\site-packages\\torch\\_tensor.py:492\u001b[0m, in \u001b[0;36mTensor.backward\u001b[1;34m(self, gradient, retain_graph, create_graph, inputs)\u001b[0m\n\u001b[0;32m    482\u001b[0m \u001b[39mif\u001b[39;00m has_torch_function_unary(\u001b[39mself\u001b[39m):\n\u001b[0;32m    483\u001b[0m     \u001b[39mreturn\u001b[39;00m handle_torch_function(\n\u001b[0;32m    484\u001b[0m         Tensor\u001b[39m.\u001b[39mbackward,\n\u001b[0;32m    485\u001b[0m         (\u001b[39mself\u001b[39m,),\n\u001b[1;32m   (...)\u001b[0m\n\u001b[0;32m    490\u001b[0m         inputs\u001b[39m=\u001b[39minputs,\n\u001b[0;32m    491\u001b[0m     )\n\u001b[1;32m--> 492\u001b[0m torch\u001b[39m.\u001b[39;49mautograd\u001b[39m.\u001b[39;49mbackward(\n\u001b[0;32m    493\u001b[0m     \u001b[39mself\u001b[39;49m, gradient, retain_graph, create_graph, inputs\u001b[39m=\u001b[39;49minputs\n\u001b[0;32m    494\u001b[0m )\n",
      "File \u001b[1;32m~\\AppData\\Roaming\\Python\\Python39\\site-packages\\torch\\autograd\\__init__.py:251\u001b[0m, in \u001b[0;36mbackward\u001b[1;34m(tensors, grad_tensors, retain_graph, create_graph, grad_variables, inputs)\u001b[0m\n\u001b[0;32m    246\u001b[0m     retain_graph \u001b[39m=\u001b[39m create_graph\n\u001b[0;32m    248\u001b[0m \u001b[39m# The reason we repeat the same comment below is that\u001b[39;00m\n\u001b[0;32m    249\u001b[0m \u001b[39m# some Python versions print out the first line of a multi-line function\u001b[39;00m\n\u001b[0;32m    250\u001b[0m \u001b[39m# calls in the traceback and some print out the last line\u001b[39;00m\n\u001b[1;32m--> 251\u001b[0m Variable\u001b[39m.\u001b[39;49m_execution_engine\u001b[39m.\u001b[39;49mrun_backward(  \u001b[39m# Calls into the C++ engine to run the backward pass\u001b[39;49;00m\n\u001b[0;32m    252\u001b[0m     tensors,\n\u001b[0;32m    253\u001b[0m     grad_tensors_,\n\u001b[0;32m    254\u001b[0m     retain_graph,\n\u001b[0;32m    255\u001b[0m     create_graph,\n\u001b[0;32m    256\u001b[0m     inputs,\n\u001b[0;32m    257\u001b[0m     allow_unreachable\u001b[39m=\u001b[39;49m\u001b[39mTrue\u001b[39;49;00m,\n\u001b[0;32m    258\u001b[0m     accumulate_grad\u001b[39m=\u001b[39;49m\u001b[39mTrue\u001b[39;49;00m,\n\u001b[0;32m    259\u001b[0m )\n",
      "\u001b[1;31mKeyboardInterrupt\u001b[0m: "
     ]
    }
   ],
   "source": [
    "#训练网络\n",
    "error_rate = 0\n",
    "out = 1\n",
    "while (out):\n",
    "    for epoch in range(image_sum):\n",
    "        x_input = torch.tensor(datasets_train[0][epoch],\n",
    "                               dtype=torch.float,\n",
    "                               requires_grad=True)\n",
    "        y_true = torch.tensor(datasets_train[1][epoch],\n",
    "                              dtype=torch.float,\n",
    "                              requires_grad=True)\n",
    "        y_pre = model(x_input)\n",
    "        #计算误差\n",
    "        loss = loss_func(y_pre, y_true)\n",
    "        #计算梯度\n",
    "        optimizer.zero_grad()\n",
    "        #更新参数\n",
    "        loss.backward(retain_graph=True)\n",
    "        optimizer.step()\n",
    "    #验证错误率，当不在下降就退出循环\n",
    "    pre_true = 0\n",
    "    pre_wrong = 0\n",
    "    for epoch in range(test_sum):\n",
    "        x_input = torch.tensor(datasets_test[0][epoch],\n",
    "                               dtype=torch.float,\n",
    "                               requires_grad=False)\n",
    "        y_true = torch.tensor(datasets_test[1][epoch],\n",
    "                              dtype=torch.int,\n",
    "                              requires_grad=False)\n",
    "        y_pre = torch.argmax(model(x_input))\n",
    "        if y_true == y_pre:\n",
    "            pre_true += 1\n",
    "        else:\n",
    "            pre_wrong += 1\n",
    "    new_rate = pre_wrong / (pre_true + pre_wrong)\n",
    "    if new_rate - error_rate < 0.001:\n",
    "        out = 0\n"
   ]
  },
  {
   "cell_type": "code",
   "execution_count": null,
   "metadata": {},
   "outputs": [
    {
     "data": {
      "image/png": "[encoded data removed]",
      "text/plain": [
       "<Figure size 640x480 with 1 Axes>"
      ]
     },
     "metadata": {},
     "output_type": "display_data"
    }
   ],
   "source": [
    "epoch = 5\n",
    "x_input = torch.tensor(datasets_test[0][epoch],\n",
    "                       dtype=torch.float,\n",
    "                       requires_grad=False)\n",
    "y_true = torch.tensor(datasets_test[1][epoch],\n",
    "                      dtype=torch.int,\n",
    "                      requires_grad=False)\n",
    "#y_pre1 = model(x_input)\n",
    "y_pre = torch.argmax(model(x_input))\n",
    "#print(y_true, y_pre1, y_pre2)\n",
    "image = datasets_test[0][epoch].reshape(28, 28)\n",
    "plt.imshow(image)\n",
    "plt.title('label:{},predict:{}'.format(int(y_true), y_pre))\n",
    "plt.show()"
   ]
  },
  {
   "cell_type": "code",
   "execution_count": null,
   "metadata": {},
   "outputs": [],
   "source": []
  }
 ],
 "metadata": {
  "kernelspec": {
   "display_name": "Python 3",
   "language": "python",
   "name": "python3"
  },
  "language_info": {
   "codemirror_mode": {
    "name": "ipython",
    "version": 3
   },
   "file_extension": ".py",
   "mimetype": "text/x-python",
   "name": "python",
   "nbconvert_exporter": "python",
   "pygments_lexer": "ipython3",
   "version": "3.9.2"
  }
 },
 "nbformat": 4,
 "nbformat_minor": 2
}
